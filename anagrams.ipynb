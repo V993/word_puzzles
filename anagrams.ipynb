{
 "cells": [
  {
   "attachments": {},
   "cell_type": "markdown",
   "metadata": {},
   "source": [
    "# Analysis of substring algos:\n",
    "Finding an optimal algorithm to find all substrings of len >3"
   ]
  },
  {
   "cell_type": "code",
   "execution_count": 8,
   "metadata": {},
   "outputs": [],
   "source": [
    "import math"
   ]
  },
  {
   "cell_type": "code",
   "execution_count": 13,
   "metadata": {},
   "outputs": [
    {
     "name": "stdout",
     "output_type": "stream",
     "text": [
      "\n",
      "h\n",
      "o\n",
      "ho\n",
      "m\n",
      "hm\n",
      "mo\n",
      "hmo\n",
      "y\n",
      "hy\n",
      "oy\n",
      "hoy\n",
      "my\n",
      "hmy\n",
      "moy\n",
      "hmoy\n",
      "e\n",
      "eh\n",
      "eo\n",
      "eho\n",
      "em\n",
      "ehm\n",
      "emo\n",
      "ehmo\n",
      "ey\n",
      "ehy\n",
      "eoy\n",
      "ehoy\n",
      "emy\n",
      "ehmy\n",
      "emoy\n",
      "ehmoy\n",
      "n\n",
      "hn\n",
      "no\n",
      "hno\n",
      "mn\n",
      "hmn\n",
      "mno\n",
      "hmno\n",
      "ny\n",
      "hny\n",
      "noy\n",
      "hnoy\n",
      "mny\n",
      "hmny\n",
      "mnoy\n",
      "hmnoy\n",
      "en\n",
      "ehn\n",
      "eno\n",
      "ehno\n",
      "emn\n",
      "ehmn\n",
      "emno\n",
      "ehmno\n",
      "eny\n",
      "ehny\n",
      "enoy\n",
      "ehnoy\n",
      "emny\n",
      "ehmny\n",
      "emnoy\n",
      "ehmnoy\n",
      "g\n",
      "gh\n",
      "go\n",
      "gho\n",
      "gm\n",
      "ghm\n",
      "gmo\n",
      "ghmo\n",
      "gy\n",
      "ghy\n",
      "goy\n",
      "ghoy\n",
      "gmy\n",
      "ghmy\n",
      "gmoy\n",
      "ghmoy\n",
      "eg\n",
      "egh\n",
      "ego\n",
      "egho\n",
      "egm\n",
      "eghm\n",
      "egmo\n",
      "eghmo\n",
      "egy\n",
      "eghy\n",
      "egoy\n",
      "eghoy\n",
      "egmy\n",
      "eghmy\n",
      "egmoy\n",
      "eghmoy\n",
      "gn\n",
      "ghn\n",
      "gno\n",
      "ghno\n",
      "gmn\n",
      "ghmn\n",
      "gmno\n",
      "ghmno\n",
      "gny\n",
      "ghny\n",
      "gnoy\n",
      "ghnoy\n",
      "gmny\n",
      "ghmny\n",
      "gmnoy\n",
      "ghmnoy\n",
      "egn\n",
      "eghn\n",
      "egno\n",
      "eghno\n",
      "egmn\n",
      "eghmn\n",
      "egmno\n",
      "eghmno\n",
      "egny\n",
      "eghny\n",
      "egnoy\n",
      "eghnoy\n",
      "egmny\n",
      "eghmny\n",
      "egmnoy\n",
      "eghmnoy\n",
      "128\n",
      "128\n"
     ]
    }
   ],
   "source": [
    "# Old Leo's approach:\n",
    "\n",
    "def all_combinations(letters):\n",
    "    \"\"\"\n",
    "    Given a list of letters, find all possible combinations.\n",
    "    Returns list of lists. \n",
    "    \"\"\"\n",
    "    if len(letters) == 0:\n",
    "        return [[]]\n",
    "    \n",
    "    combinations = []\n",
    "    for c in all_combinations(letters[1:]):\n",
    "        combinations += [c, c+[letters[0]]]\n",
    "    \n",
    "    return combinations\n",
    "\n",
    "\n",
    "result0 = all_combinations(\"homyeng\")\n",
    "\n",
    "friendly0 = set()\n",
    "for index, combination in enumerate(result0):\n",
    "    combination = \"\".join(sorted(combination))\n",
    "    friendly0.add(combination)\n",
    "    print(combination)\n",
    "\n",
    "print(len(friendly0))\n",
    "print(len(result0))\n",
    "    # print(index, combination)\n"
   ]
  },
  {
   "cell_type": "code",
   "execution_count": 12,
   "metadata": {},
   "outputs": [
    {
     "name": "stdout",
     "output_type": "stream",
     "text": [
      "5040\n",
      "16\n",
      "0 set()\n",
      "1 {'h'}\n",
      "2 {'e'}\n",
      "3 {'e', 'h'}\n",
      "4 {'l'}\n",
      "5 {'h', 'l'}\n",
      "6 {'e', 'l'}\n",
      "7 {'e', 'h', 'l'}\n",
      "8 {'o'}\n",
      "9 {'h', 'o'}\n",
      "10 {'e', 'o'}\n",
      "11 {'e', 'h', 'o'}\n",
      "12 {'o', 'l'}\n",
      "13 {'h', 'o', 'l'}\n",
      "14 {'e', 'o', 'l'}\n",
      "15 {'e', 'h', 'o', 'l'}\n"
     ]
    }
   ],
   "source": [
    "def all_combinations(letters):\n",
    "    \"\"\"\n",
    "    Given a list of letters, find all possible combinations.\n",
    "    Returns list of lists. \n",
    "    \"\"\"\n",
    "    if len(letters) == 0:\n",
    "        return [[]]\n",
    "    \n",
    "    combinations = []\n",
    "    for c in all_combinations(letters[1:]):\n",
    "        combinations += [c, c+[letters[0]]]\n",
    "    \n",
    "    return combinations\n",
    "\n",
    "# result1 = [\"\".join(combination) for combination in all_combinations(\"hello\")]\n",
    "\n",
    "result1 = []\n",
    "[result1.append(set(combination)) for combination in all_combinations(\"hello\") if set(combination) not in result1 ]\n",
    "\n",
    "print(math.factorial(len(\"homyeng\")))\n",
    "print(len(result1))\n",
    "for index, combination in enumerate(result1):\n",
    "    print(index, combination)"
   ]
  },
  {
   "cell_type": "code",
   "execution_count": 13,
   "metadata": {},
   "outputs": [
    {
     "name": "stdout",
     "output_type": "stream",
     "text": [
      "15\n",
      "h\n",
      "he\n",
      "hel\n",
      "hell\n",
      "hello\n",
      "e\n",
      "el\n",
      "ell\n",
      "ello\n",
      "l\n",
      "ll\n",
      "llo\n",
      "l\n",
      "lo\n",
      "o\n"
     ]
    }
   ],
   "source": [
    "def linear_combinations(letters):\n",
    "    subs = []\n",
    "    for i in range(len(letters)+1):\n",
    "        for j in range(i+1, len(letters)+1):\n",
    "            subs.append(letters[i:j])\n",
    "\n",
    "    return subs\n",
    "\n",
    "result2 = linear_combinations(\"hello\")\n",
    "\n",
    "print(len(result2))\n",
    "for combination in result2:\n",
    "    print(combination)"
   ]
  },
  {
   "cell_type": "markdown",
   "metadata": {},
   "source": []
  },
  {
   "cell_type": "code",
   "execution_count": 24,
   "metadata": {},
   "outputs": [
    {
     "name": "stdout",
     "output_type": "stream",
     "text": [
      "*\n",
      "h\n",
      "e\n",
      "he\n",
      "l\n",
      "*hl\n",
      "el\n",
      "hel\n",
      "l\n",
      "*hl\n",
      "el\n",
      "hel\n",
      "ll\n",
      "*hll\n",
      "ell\n",
      "hell\n",
      "o\n",
      "*ho\n",
      "*eo\n",
      "*heo\n",
      "lo\n",
      "*hlo\n",
      "*elo\n",
      "*helo\n",
      "lo\n",
      "*hlo\n",
      "*elo\n",
      "*helo\n",
      "llo\n",
      "*hllo\n",
      "ello\n",
      "hello\n",
      "14\n"
     ]
    }
   ],
   "source": [
    "missing = []\n",
    "\n",
    "for result in result1:\n",
    "    result = result[::-1]\n",
    "    if result not in result2:\n",
    "        print(\"*\"+result)\n",
    "        missing.append(result)\n",
    "    else:\n",
    "        print(result)\n",
    "\n",
    "print(len(missing))\n",
    "    "
   ]
  },
  {
   "attachments": {},
   "cell_type": "markdown",
   "metadata": {},
   "source": [
    "# Analysis of permutation algos:"
   ]
  },
  {
   "cell_type": "code",
   "execution_count": 8,
   "metadata": {},
   "outputs": [],
   "source": [
    "def linear_combinations(letters):\n",
    "    subs = []\n",
    "    for i in range(len(letters)+1):\n",
    "        for j in range(i+1, len(letters)+1):\n",
    "            subs.append(letters[i:j])\n",
    "    return subs"
   ]
  },
  {
   "cell_type": "code",
   "execution_count": 21,
   "metadata": {},
   "outputs": [],
   "source": [
    "def recursive_permutations(s):\n",
    "    if len(s) == 1:\n",
    "        return [s]\n",
    "    else:\n",
    "        perms = []\n",
    "        for i, c in enumerate(s):\n",
    "            for perm in recursive_permutations(s[:i] + s[i+1:]):\n",
    "                perms.append(c + perm)\n",
    "        return perms\n"
   ]
  },
  {
   "cell_type": "code",
   "execution_count": 52,
   "metadata": {},
   "outputs": [
    {
     "name": "stdout",
     "output_type": "stream",
     "text": [
      "should be 6: 6\n",
      "['abc', 'acb', 'bac', 'bca', 'cab', 'cba']\n"
     ]
    }
   ],
   "source": [
    "letters = \"abc\"\n",
    "all_permutations = recursive_permutations(letters)\n",
    "print(\"should be 6:\",len(all_permutations))\n",
    "print(all_permutations)"
   ]
  },
  {
   "cell_type": "code",
   "execution_count": 58,
   "metadata": {},
   "outputs": [],
   "source": [
    "def get_num_permutations(a):\n",
    "    # Given an array a, checks all string lengths and gets the number of permutations for all substrings\n",
    "    total_perms = 0\n",
    "    for s in a:\n",
    "        permutations = math.factorial(len(s))\n",
    "        total_perms += permutations\n",
    "    \n",
    "    return total_perms\n"
   ]
  },
  {
   "cell_type": "code",
   "execution_count": 64,
   "metadata": {},
   "outputs": [
    {
     "name": "stdout",
     "output_type": "stream",
     "text": [
      "['a', 'ab', 'abs', 'absc', 'absco', 'abscon', 'abscond', 'b', 'bs', 'bsc', 'bsco', 'bscon', 'bscond', 's', 'sc', 'sco', 'scon', 'scond', 'c', 'co', 'con', 'cond', 'o', 'on', 'ond', 'n', 'nd', 'd']\n",
      "Number of substrings of original string: 28\n",
      "Expected number of permutations: 6985\n",
      "Actual number of permutations: 6985\n"
     ]
    }
   ],
   "source": [
    "letters = \"abscond\"\n",
    "\n",
    "# 28 possbile combinations of a 7 letter word, ordered\n",
    "combinations = linear_combinations(letters)\n",
    "print(combinations)\n",
    "print(\"Number of substrings of original string:\", len(combinations))\n",
    "\n",
    "all_permutations = []\n",
    "[(all_permutations.extend(recursive_permutations(combination))) for combination in combinations]\n",
    "\n",
    "permutation_set = {}\n",
    "for permutation in all_permutations:\n",
    "    if permutation not in permutation_set:\n",
    "        permutation_set[permutation] = 1\n",
    "    else: \n",
    "        permutation_set[permutation] += 1 \n",
    " \n",
    "expected = get_num_permutations(combinations)\n",
    "print(\"Expected number of permutations:\", expected)\n",
    "print(\"Actual number of permutations:\", len(all_permutations))"
   ]
  },
  {
   "cell_type": "code",
   "execution_count": null,
   "metadata": {},
   "outputs": [],
   "source": []
  },
  {
   "cell_type": "code",
   "execution_count": null,
   "metadata": {},
   "outputs": [],
   "source": []
  }
 ],
 "metadata": {
  "kernelspec": {
   "display_name": "Python 3",
   "language": "python",
   "name": "python3"
  },
  "language_info": {
   "codemirror_mode": {
    "name": "ipython",
    "version": 3
   },
   "file_extension": ".py",
   "mimetype": "text/x-python",
   "name": "python",
   "nbconvert_exporter": "python",
   "pygments_lexer": "ipython3",
   "version": "3.10.2"
  },
  "orig_nbformat": 4
 },
 "nbformat": 4,
 "nbformat_minor": 2
}
